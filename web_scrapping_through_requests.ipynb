{
  "nbformat": 4,
  "nbformat_minor": 0,
  "metadata": {
    "colab": {
      "name": "web scrapping through requests.ipynb",
      "provenance": [],
      "collapsed_sections": [],
      "authorship_tag": "ABX9TyMe//CDIsORvQemN+nGz4Z5",
      "include_colab_link": true
    },
    "kernelspec": {
      "name": "python3",
      "display_name": "Python 3"
    }
  },
  "cells": [
    {
      "cell_type": "markdown",
      "metadata": {
        "id": "view-in-github",
        "colab_type": "text"
      },
      "source": [
        "<a href=\"https://colab.research.google.com/github/gbaser54/python-web-scrapping/blob/master/web_scrapping_through_requests.ipynb\" target=\"_parent\"><img src=\"https://colab.research.google.com/assets/colab-badge.svg\" alt=\"Open In Colab\"/></a>"
      ]
    },
    {
      "cell_type": "code",
      "metadata": {
        "id": "EJ9oP1KTMP5L",
        "colab_type": "code",
        "colab": {}
      },
      "source": [
        "import requests\n",
        "url = \"https://cdn.pixabay.com/photo/2019/05/23/19/29/dog-4224638_960_720.jpg\"\n",
        "res = requests.get(url)\n",
        "res.status_code\n",
        "\n",
        "f = open(\"dog.jpg\", \"wb\")\n",
        "\n",
        "f.write(res.content)\n",
        "\n",
        "f.close()"
      ],
      "execution_count": 3,
      "outputs": []
    }
  ]
}