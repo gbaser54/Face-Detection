{
  "nbformat": 4,
  "nbformat_minor": 0,
  "metadata": {
    "colab": {
      "name": "web scrapping through requests.ipynb",
      "provenance": [],
      "collapsed_sections": [],
      "authorship_tag": "ABX9TyPd7mzMW/eim5jxhO8LDyFB",
      "include_colab_link": true
    },
    "kernelspec": {
      "name": "python3",
      "display_name": "Python 3"
    }
  },
  "cells": [
    {
      "cell_type": "markdown",
      "metadata": {
        "id": "view-in-github",
        "colab_type": "text"
      },
      "source": [
        "<a href=\"https://colab.research.google.com/github/gbaser54/python-web-scrapping/blob/master/web_scrapping_through_requests.ipynb\" target=\"_parent\"><img src=\"https://colab.research.google.com/assets/colab-badge.svg\" alt=\"Open In Colab\"/></a>"
      ]
    },
    {
      "cell_type": "code",
      "metadata": {
        "id": "EJ9oP1KTMP5L",
        "colab_type": "code",
        "colab": {}
      },
      "source": [
        "import requests\n",
        "url = \"https://cdn.pixabay.com/photo/2019/05/23/19/29/dog-4224638_960_720.jpg\"\n",
        "res = requests.get(url)\n",
        "res.status_code\n",
        "\n",
        "f = open(\"dog.jpg\", \"wb\")\n",
        "\n",
        "f.write(res.content)\n",
        "\n",
        "f.close()"
      ],
      "execution_count": 2,
      "outputs": []
    },
    {
      "cell_type": "code",
      "metadata": {
        "colab_type": "code",
        "id": "UNOW8GdbpFr-",
        "colab": {
          "base_uri": "https://localhost:8080/",
          "height": 248
        },
        "outputId": "a2949e3f-f798-4ec1-ec6d-008699069601"
      },
      "source": [
        "import requests\n",
        "url = \"https://images.unsplash.com/photo-1566903451935-7e8835ed3e97?ixlib=rb-1.2.1&w=1000&q=80\"\n",
        "res = requests.get(url)\n",
        "res.status_code\n",
        "\n",
        "f = open(\"https://images.unsplash.com/photo-1566903451935-7e8835ed3e97?ixlib=rb-1.2.1&w=1000&q=80\", \"wb\")\n",
        "\n",
        "f.write(res.content)\n",
        "\n",
        "f.close()"
      ],
      "execution_count": null,
      "outputs": [
        {
          "output_type": "error",
          "ename": "FileNotFoundError",
          "evalue": "ignored",
          "traceback": [
            "\u001b[0;31m---------------------------------------------------------------------------\u001b[0m",
            "\u001b[0;31mFileNotFoundError\u001b[0m                         Traceback (most recent call last)",
            "\u001b[0;32m<ipython-input-4-158e0590fb20>\u001b[0m in \u001b[0;36m<module>\u001b[0;34m()\u001b[0m\n\u001b[1;32m      4\u001b[0m \u001b[0mres\u001b[0m\u001b[0;34m.\u001b[0m\u001b[0mstatus_code\u001b[0m\u001b[0;34m\u001b[0m\u001b[0;34m\u001b[0m\u001b[0m\n\u001b[1;32m      5\u001b[0m \u001b[0;34m\u001b[0m\u001b[0m\n\u001b[0;32m----> 6\u001b[0;31m \u001b[0mf\u001b[0m \u001b[0;34m=\u001b[0m \u001b[0mopen\u001b[0m\u001b[0;34m(\u001b[0m\u001b[0;34m\"https://images.unsplash.com/photo-1566903451935-7e8835ed3e97?ixlib=rb-1.2.1&w=1000&q=80\"\u001b[0m\u001b[0;34m,\u001b[0m \u001b[0;34m\"wb\"\u001b[0m\u001b[0;34m)\u001b[0m\u001b[0;34m\u001b[0m\u001b[0;34m\u001b[0m\u001b[0m\n\u001b[0m\u001b[1;32m      7\u001b[0m \u001b[0;34m\u001b[0m\u001b[0m\n\u001b[1;32m      8\u001b[0m \u001b[0mf\u001b[0m\u001b[0;34m.\u001b[0m\u001b[0mwrite\u001b[0m\u001b[0;34m(\u001b[0m\u001b[0mres\u001b[0m\u001b[0;34m.\u001b[0m\u001b[0mcontent\u001b[0m\u001b[0;34m)\u001b[0m\u001b[0;34m\u001b[0m\u001b[0;34m\u001b[0m\u001b[0m\n",
            "\u001b[0;31mFileNotFoundError\u001b[0m: [Errno 2] No such file or directory: 'https://images.unsplash.com/photo-1566903451935-7e8835ed3e97?ixlib=rb-1.2.1&w=1000&q=80'"
          ]
        }
      ]
    }
  ]
}